{
 "cells": [
  {
   "attachments": {},
   "cell_type": "markdown",
   "metadata": {},
   "source": [
    "<H3>Mouse Movement Documentation</h3>"
   ]
  },
  {
   "attachments": {},
   "cell_type": "markdown",
   "metadata": {},
   "source": [
    "* This code uses the pyautogui module to control the mouse cursor. The moveTo() function moves the cursor to a specific position on the screen, with the optional duration argument specifying the amount of time it takes for the cursor to move to the new position.\n",
    "\n",
    "* The random module is used to generate random x and y coordinates for the cursor to move to. The uniform() function generates a random float between the given range (in this case, 0 and 1).\n",
    "\n",
    "* The time module is used to pause the program for a short period of time after each mouse movement, using the sleep() function.\n",
    "\n",
    "* This code will run indefinitely, moving the mouse cursor to a new random position every second. You can adjust the duration of the mouse movement and the pause between movements by modifying the duration and sleep arguments, respectively."
   ]
  },
  {
   "cell_type": "code",
   "execution_count": null,
   "metadata": {},
   "outputs": [],
   "source": [
    "import pyautogui\n",
    "import random\n",
    "import time\n",
    "\n",
    "while True:\n",
    "    \n",
    "    x = random.uniform(0, 1)\n",
    "    y = random.uniform(0, 1)\n",
    "    pyautogui.moveTo(x, y, duration=0.5)\n",
    "    time.sleep(0.5)\n",
    "\n",
    "# NOTE: It will trigger FailSafeException if the mouse is moved to the upper-left corner of the screen."
   ]
  }
 ],
 "metadata": {
  "kernelspec": {
   "display_name": ".venv",
   "language": "python",
   "name": "python3"
  },
  "language_info": {
   "codemirror_mode": {
    "name": "ipython",
    "version": 3
   },
   "file_extension": ".py",
   "mimetype": "text/x-python",
   "name": "python",
   "nbconvert_exporter": "python",
   "pygments_lexer": "ipython3",
   "version": "3.10.8"
  },
  "orig_nbformat": 4,
  "vscode": {
   "interpreter": {
    "hash": "fae7c89c4357d1a4124baa04e7ca8bc76186a142e5aea7b60afbc435626664f9"
   }
  }
 },
 "nbformat": 4,
 "nbformat_minor": 2
}
