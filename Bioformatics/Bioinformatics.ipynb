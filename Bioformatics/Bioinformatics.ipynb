{
 "cells": [
  {
   "attachments": {},
   "cell_type": "markdown",
   "metadata": {},
   "source": [
    "<h1>Bioinformatic Tools</h1>"
   ]
  },
  {
   "attachments": {},
   "cell_type": "markdown",
   "metadata": {},
   "source": [
    "<h3>Calculating Hamming distance</h3>\n",
    "\n",
    "Description: The Hamming distance between two strings of equal length is the number of positions at which the corresponding symbols are different."
   ]
  },
  {
   "cell_type": "code",
   "execution_count": 1,
   "metadata": {},
   "outputs": [
    {
     "name": "stdout",
     "output_type": "stream",
     "text": [
      "Hamming distance:  23\n"
     ]
    }
   ],
   "source": [
    "# Store the DNA sequences in variables\n",
    "seq1 = \"CAGAAAGGAAGGTCCCCATACACCGACGCACCAGTTTA\"\n",
    "seq2 = \"CACGCCGTATGCATAAACGAGCCGCACGAACCAGAGAG\"\n",
    "\n",
    "# Initialize a variable to store the Hamming distance\n",
    "distance = 0\n",
    "\n",
    "# Iterate through the sequences and compare the bases at each position\n",
    "for i in range(len(seq1)):\n",
    "  if seq1[i] != seq2[i]:\n",
    "    distance += 1\n",
    "\n",
    "# Print the Hamming distance\n",
    "print(\"Hamming distance: \", distance)"
   ]
  },
  {
   "attachments": {},
   "cell_type": "markdown",
   "metadata": {},
   "source": [
    "<h3>Skew Implementation</h3>\n",
    "\n",
    "Description: The skew diagram of a DNA string Genome is a plot of the difference between the total number of occurrences of G and C in the first i nucleotides of Genome, for i ranging from 0 to |Genome|. The skew diagram of Genome is useful for locating approximate pattern matches."
   ]
  },
  {
   "cell_type": "code",
   "execution_count": null,
   "metadata": {},
   "outputs": [],
   "source": [
    "# Store the DNA sequence in a variable\n",
    "dna_sequence = \"GATACACTTCCCGAGTAGGTACTG\"\n",
    "\n",
    "# Initialize variables to store the minimum Skewi value and the corresponding position\n",
    "min_skewi = float(\"inf\")\n",
    "min_position = 0\n",
    "\n",
    "# Store the DNA sequence in a variable\n",
    "dna_sequence = \"GATACACTTCCCGAGTAGGTACTG\"\n",
    "\n",
    "# Initialize variables to store the minimum Skewi value and the position where it occurs\n",
    "min_skewi = float(\"inf\")\n",
    "min_pos = -1\n",
    "\n",
    "# Iterate through the DNA sequence and calculate the Skewi value at each position\n",
    "for i in range(len(dna_sequence)):\n",
    "  skewi = dna_sequence[:i+1].count(\"G\") - dna_sequence[:i+1].count(\"C\")\n",
    "  if skewi < min_skewi:\n",
    "    min_skewi = skewi\n",
    "    min_pos = i\n",
    "\n",
    "# Print the position where Skewi attains a minimum value\n",
    "print(\"Minimum Skewi at position: \", min_pos)\n"
   ]
  },
  {
   "attachments": {},
   "cell_type": "markdown",
   "metadata": {},
   "source": [
    "<h3> Nucleotide Counting  </h3>\n",
    "Description: counts the number of times each nucleotide occurs in a given DNA string"
   ]
  },
  {
   "cell_type": "code",
   "execution_count": null,
   "metadata": {},
   "outputs": [],
   "source": [
    "# Store the DNA sequence in a variable\n",
    "dna_sequence = \"CGTGACAGTGTATGGGCATCTTT\"\n",
    "\n",
    "# Use the count() method to count the number of occurrences of the string \"TGT\" in the DNA sequence\n",
    "c = dna_sequence.count(\"TGT\")\n",
    "\n",
    "# Print the result\n",
    "print(\"Count1(CGTGACAGTGTATGGGCATCTTT, TGT): \", c)"
   ]
  },
  {
   "attachments": {},
   "cell_type": "markdown",
   "metadata": {},
   "source": [
    "<h3>K-mer matching</h3>\n",
    "Description: Given a string Genome and an integer k, find all distinct k-mers in Genome."
   ]
  },
  {
   "cell_type": "code",
   "execution_count": null,
   "metadata": {},
   "outputs": [],
   "source": [
    "# Store the k-mer in a variable\n",
    "kmer = \"CCAGTCAATG\"\n",
    "\n",
    "# Initialize a counter to store the number of 10-mers in the 1-neighborhood\n",
    "count = 0\n",
    "\n",
    "# Iterate through the possible 10-mers and count those that are at most Hamming distance 1 from the k-mer\n",
    "for i in range(1024):\n",
    "  # Generate the 10-mer by replacing the bases at each position with the corresponding base in the binary representation of i\n",
    "  neighbor = \"\"\n",
    "  for j in range(10):\n",
    "    if i & (1 << j):\n",
    "      neighbor += \"ACGT\"[j % 4]\n",
    "    else:\n",
    "      neighbor += kmer[j]\n",
    "  # Count the 10-mer if it is at most Hamming distance 1 from the k-mer\n",
    "  if sum(1 for a, b in zip(neighbor, kmer) if a != b) <= 1:\n",
    "    count += 1\n",
    "\n",
    "# Print the result\n",
    "print(\"Number of 10-mers in the 1-neighborhood of \" +kmer+\":\", count)"
   ]
  }
 ],
 "metadata": {
  "kernelspec": {
   "display_name": "Python 3",
   "language": "python",
   "name": "python3"
  },
  "language_info": {
   "codemirror_mode": {
    "name": "ipython",
    "version": 3
   },
   "file_extension": ".py",
   "mimetype": "text/x-python",
   "name": "python",
   "nbconvert_exporter": "python",
   "pygments_lexer": "ipython3",
   "version": "3.10.8 (tags/v3.10.8:aaaf517, Oct 11 2022, 16:50:30) [MSC v.1933 64 bit (AMD64)]"
  },
  "orig_nbformat": 4,
  "vscode": {
   "interpreter": {
    "hash": "8a5edab282632443219e051e4ade2d1d5bbc671c781051bf1437897cbdfea0f1"
   }
  }
 },
 "nbformat": 4,
 "nbformat_minor": 2
}
